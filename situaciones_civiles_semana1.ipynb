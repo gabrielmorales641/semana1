{
  "nbformat": 4,
  "nbformat_minor": 0,
  "metadata": {
    "colab": {
      "provenance": [],
      "authorship_tag": "ABX9TyNmeSf6hRk1scgOEwVBiQo7",
      "include_colab_link": true
    },
    "kernelspec": {
      "name": "python3",
      "display_name": "Python 3"
    },
    "language_info": {
      "name": "python"
    }
  },
  "cells": [
    {
      "cell_type": "markdown",
      "metadata": {
        "id": "view-in-github",
        "colab_type": "text"
      },
      "source": [
        "<a href=\"https://colab.research.google.com/github/gabrielmorales641/semana1/blob/main/situaciones_civiles_semana1.ipynb\" target=\"_parent\"><img src=\"https://colab.research.google.com/assets/colab-badge.svg\" alt=\"Open In Colab\"/></a>"
      ]
    },
    {
      "cell_type": "code",
      "execution_count": 1,
      "metadata": {
        "colab": {
          "base_uri": "https://localhost:8080/",
          "height": 110
        },
        "id": "v__X4qJrHFQ6",
        "outputId": "57b2bfc3-13a8-4ee2-b528-c23dddb26853"
      },
      "outputs": [
        {
          "output_type": "error",
          "ename": "SyntaxError",
          "evalue": "invalid non-printable character U+FFFF (ipython-input-1371336014.py, line 1)",
          "traceback": [
            "\u001b[0;36m  File \u001b[0;32m\"/tmp/ipython-input-1371336014.py\"\u001b[0;36m, line \u001b[0;32m1\u001b[0m\n\u001b[0;31m    Situación de Interés en Ingeniería Agrícola ￿: Un agricultor necesita saber cuántos kilogramos\u001b[0m\n\u001b[0m                                                ^\u001b[0m\n\u001b[0;31mSyntaxError\u001b[0m\u001b[0;31m:\u001b[0m invalid non-printable character U+FFFF\n"
          ]
        }
      ],
      "source": [
        " # calculo de semilla\n",
        "  #1. Saludar al usuario y explicar qué hace el programa.\n",
        "   print(\"bienvenidos al calculo de semillas\")\n",
        "\n",
        "#2. pedir al usuario que ingrese el largo del lote en metros (input sin conversion)\n",
        "largo = input(\"ingrese el largo del lote en metros: \")\n",
        "\n",
        "#3. Pedir el ancho del lote en metros (input sin conversion)\n",
        "ancho = input(\"ingrese el ancho del lote en metros: \")\n",
        "\n",
        "#4. Pedir la densidad de siembra recomendada en kilogramos por hectárea (input sin conversion)\n",
        "densidad = input(\"ingrese la densidad de siembra recomendada en kilogramos por hectárea: \")\n",
        "\n",
        "#5  Convertir las entradas de texto a números decimales (float).\n",
        "  largo = float(largo)\n",
        "  ancho = float(ancho)\n",
        "  densidad = float(densidad)\n",
        "\n",
        "#6. Calcular el área en metros cuadrados (largo * ancho).\n",
        "Area = largo  *  ancho\n",
        "\n",
        "#7. Convertir el área a hectáreas (1 hectárea = 10,000 m²).\n",
        "area = area / 1000\n",
        "\n",
        "#8. Calcular la cantidad total de semilla (área en hectáreas * densidad).\n",
        "\n",
        "#9. Mostrar el resultado final al usuario de forma clara (print).\n",
        "\n",
        "\n",
        "\n",
        "\n",
        "\n",
        "\n",
        "\n",
        "\n"
      ]
    },
    {
      "cell_type": "markdown",
      "source": [
        " Situación de Interés en Ingeniería Agrícola ￿: Un agricultor necesita saber cuántos kilogramos\n",
        " de semilla de maíz debe comprar para sembrar un lote rectangular. Conoce la densidad de siembra\n",
        " recomendada (kg por hectárea) y las dimensiones del lote (largo y ancho en metros)."
      ],
      "metadata": {
        "id": "_OvnOiQ1IQjm"
      }
    }
  ]
}