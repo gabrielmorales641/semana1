{
  "nbformat": 4,
  "nbformat_minor": 0,
  "metadata": {
    "colab": {
      "provenance": [],
      "authorship_tag": "ABX9TyNfbz/9zqQ8hhTTTyFjDNSN",
      "include_colab_link": true
    },
    "kernelspec": {
      "name": "python3",
      "display_name": "Python 3"
    },
    "language_info": {
      "name": "python"
    }
  },
  "cells": [
    {
      "cell_type": "markdown",
      "metadata": {
        "id": "view-in-github",
        "colab_type": "text"
      },
      "source": [
        "<a href=\"https://colab.research.google.com/github/gabrielmorales641/semana1/blob/main/semana1.ipynb\" target=\"_parent\"><img src=\"https://colab.research.google.com/assets/colab-badge.svg\" alt=\"Open In Colab\"/></a>"
      ]
    },
    {
      "cell_type": "code",
      "execution_count": 2,
      "metadata": {
        "colab": {
          "base_uri": "https://localhost:8080/"
        },
        "id": "djXdec1K_Rzi",
        "outputId": "7a52d340-6369-40b1-c495-1cac32b7ff08"
      },
      "outputs": [
        {
          "output_type": "stream",
          "name": "stdout",
          "text": [
            "Datos del Estudiante:\n",
            "Nombre: gabriel morales\n",
            "Edad: 18 años\n",
            "¿Cuál es tu asignatura favorita? parchologia II\n",
            "¡Qué bien! Tu asignatura favorita es parchologia II.\n"
          ]
        }
      ],
      "source": [
        "# 1. Variables y tipos de datos\n",
        "nombre_estudiante = \"gabriel morales\"\n",
        "edad = 18\n",
        "promedio = 5.0\n",
        "es_regular = True\n",
        "# 2. La función print() para mostrar información\n",
        "print(\"Datos del Estudiante:\")\n",
        "print(\"Nombre:\", nombre_estudiante)\n",
        "print(f\"Edad: {edad} años\") # Usando f-strings, una forma moderna y útil\n",
        "# 3. La función input() para recibir datos del usuario\n",
        "asignatura_favorita = input(\"¿Cuál es tu asignatura favorita? \")\n",
        "print(f\"¡Qué bien! Tu asignatura favorita es {asignatura_favorita}.\")"
      ]
    },
    {
      "cell_type": "code",
      "source": [
        "# 4. Operaciones aritméticas con variables\n",
        "\n",
        "# Definimos dos números\n",
        "numero1 = 10\n",
        "numero2 = 5\n",
        "\n",
        "# Suma\n",
        "suma = numero1 + numero2\n",
        "print(f\"La suma de {numero1} y {numero2} es: {suma}\")\n",
        "\n",
        "# Resta\n",
        "resta = numero1 - numero2\n",
        "print(f\"La resta de {numero1} y {numero2} es: {resta}\")\n",
        "\n",
        "# Multiplicación\n",
        "multiplicacion = numero1 * numero2\n",
        "print(f\"La multiplicación de {numero1} y {numero2} es: {multiplicacion}\")\n",
        "\n",
        "# División\n",
        "# Verificamos que el divisor no sea cero para evitar errores\n",
        "if numero2 != 0:\n",
        "  division = numero1 / numero2\n",
        "  print(f\"La división de {numero1} entre {numero2} es: {division}\")\n",
        "else:\n",
        "  print(\"No se puede dividir entre cero.\")"
      ],
      "metadata": {
        "colab": {
          "base_uri": "https://localhost:8080/"
        },
        "id": "6zCnOrBJCE5H",
        "outputId": "ef420816-6ab9-4e6b-be95-5ee4551ac51c"
      },
      "execution_count": 4,
      "outputs": [
        {
          "output_type": "stream",
          "name": "stdout",
          "text": [
            "La suma de 10 y 5 es: 15\n",
            "La resta de 10 y 5 es: 5\n",
            "La multiplicación de 10 y 5 es: 50\n",
            "La división de 10 entre 5 es: 2.0\n"
          ]
        }
      ]
    }
  ]
}